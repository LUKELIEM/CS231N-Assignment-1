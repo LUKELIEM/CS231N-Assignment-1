{
 "cells": [
  {
   "cell_type": "markdown",
   "metadata": {
    "collapsed": true
   },
   "source": [
    "# This is development code.\n",
    "\n",
    "We start with a smaller and more manageable data set to test out either existing codes or new concepts.\n"
   ]
  },
  {
   "cell_type": "code",
   "execution_count": 3,
   "metadata": {
    "collapsed": false
   },
   "outputs": [
    {
     "name": "stdout",
     "output_type": "stream",
     "text": [
      "Training Data:\n",
      "\n",
      "[[ 1.20466072  0.52750932  1.11222664  1.08430208]\n",
      " [ 0.2618147   0.48211007 -0.8555497   0.03941428]\n",
      " [-0.13492251  0.88209827  0.29855682  1.27198366]\n",
      " [-0.19164472 -0.55101776 -0.8498755   1.01248193]\n",
      " [ 0.66443334  0.70598255  0.70554103 -0.05743326]]\n",
      "\n",
      " Parameters:\n",
      "[[-1.35782026  0.33178063  0.31640854]\n",
      " [-2.25460847 -0.35879123 -1.49592827]\n",
      " [ 0.40401769  0.39364313 -0.50055256]\n",
      " [-2.5570766   0.29132825 -1.12773734]]\n",
      "\n",
      "True Labels:\n",
      "[1 2 0 0 1]\n",
      "\n",
      "Score (XW):\n",
      "[[-5.14832396  0.96412558 -2.18748701]\n",
      " [-1.88890929 -0.41141058 -0.25456303]\n",
      " [-4.93752312  0.12683581 -2.94615323]\n",
      " [-1.42981018  0.09453328  0.04723869]\n",
      " [-2.06198299  0.22814521 -1.13425761]]\n"
     ]
    }
   ],
   "source": [
    "import random\n",
    "import numpy as np\n",
    "\n",
    "# Evaluate the naive implementation of the loss we provided for you:\n",
    "from cs231n.classifiers.linear_svm_V1 import svm_loss_naive\n",
    "\n",
    "# Use a smaller dataset to code svm_loss_naive \n",
    "# We will first try a small training dataset with only 5 data points and 3 classes\n",
    "X1 = np.random.randn(5, 4)\n",
    "W1 = np.random.randn(4, 3)\n",
    "y1 = np.array([1, 2, 0, 0, 1])\n",
    "S = X1.dot(W1)\n",
    "print \"Training Data:\\n\"\n",
    "print X1\n",
    "print \"\\n Parameters:\"\n",
    "print W1\n",
    "print \"\\nTrue Labels:\"\n",
    "print y1\n",
    "print \"\\nScore (XW):\"\n",
    "print S"
   ]
  },
  {
   "cell_type": "code",
   "execution_count": 4,
   "metadata": {
    "collapsed": false
   },
   "outputs": [
    {
     "name": "stdout",
     "output_type": "stream",
     "text": [
      "Outputs of svm_loss_naive:\n",
      "\n",
      "2.98005472005\n",
      "[[ 0.65313448 -0.06475254 -0.58838194]\n",
      " [-0.66216101  0.81319057 -0.15102956]\n",
      " [ 1.10263736 -1.40686838  0.30423102]\n",
      " [-4.56893119  2.32387987  2.24505131]]\n"
     ]
    }
   ],
   "source": [
    "loss, grad = svm_loss_naive(W1, X1, y1, 0.0, False)\n",
    "\n",
    "print \"Outputs of svm_loss_naive:\\n\"\n",
    "print loss\n",
    "print grad"
   ]
  },
  {
   "cell_type": "markdown",
   "metadata": {},
   "source": [
    "Run gradient check"
   ]
  },
  {
   "cell_type": "code",
   "execution_count": 6,
   "metadata": {
    "collapsed": false
   },
   "outputs": [
    {
     "name": "stdout",
     "output_type": "stream",
     "text": [
      "\n",
      "Numerical gradient calculation\n",
      "numerical: 0.060846 analytic: 0.304231, relative error: 6.666667e-01\n",
      "numerical: 0.449010 analytic: 2.245051, relative error: 6.666667e-01\n",
      "numerical: 0.464776 analytic: 2.323880, relative error: 6.666667e-01\n"
     ]
    }
   ],
   "source": [
    "from cs231n.gradient_check import grad_check_sparse\n",
    "\n",
    "print '\\n'+'Numerical gradient calculation' \n",
    "f = lambda w: svm_loss_naive(W1, X1, y1, 0.0,False)[0]\n",
    "grad_numerical = grad_check_sparse(f, W1, grad, 3)"
   ]
  },
  {
   "cell_type": "code",
   "execution_count": null,
   "metadata": {
    "collapsed": true
   },
   "outputs": [],
   "source": []
  }
 ],
 "metadata": {
  "kernelspec": {
   "display_name": "Python [default]",
   "language": "python",
   "name": "python2"
  },
  "language_info": {
   "codemirror_mode": {
    "name": "ipython",
    "version": 2
   },
   "file_extension": ".py",
   "mimetype": "text/x-python",
   "name": "python",
   "nbconvert_exporter": "python",
   "pygments_lexer": "ipython2",
   "version": "2.7.12"
  }
 },
 "nbformat": 4,
 "nbformat_minor": 1
}
